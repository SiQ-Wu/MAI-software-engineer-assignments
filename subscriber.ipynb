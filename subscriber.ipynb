{
 "cells": [
  {
   "cell_type": "code",
   "execution_count": null,
   "metadata": {},
   "outputs": [],
   "source": [
    "import numpy as np\n",
    "import paho.mqtt.client as mqtt\n",
    "import time\n",
    "\n",
    "broker = \"broker.emqx.io\"\n",
    "port = 1883\n",
    "topic = \"movement_simulation\"\n",
    "\n",
    "t = []\n",
    "x = []\n",
    "y = []\n",
    "vx = []\n",
    "vy = []\n",
    "\n",
    "def on_connect(client, userdata, flags, rc):\n",
    "    if rc == 0:\n",
    "        print(\"Connected to MQTT server!\")\n",
    "        client.subscribe(topic)\n",
    "    else:\n",
    "        print(f\"Failed to connect, result code {0}\".format(str(rc)))\n",
    "        \n",
    "def on_message(client, userdata, msg):\n",
    "    data = msg.payload.decode('utf-8').split(' ')\n",
    "    t.append(float(data[0]))\n",
    "    x.append(float(data[1]))\n",
    "    y.append(float(data[2]))\n",
    "    vx.append(float(data[3]))\n",
    "    vy.append(float(data[4]))\n",
    "    print(\"t={}\\tx={}\\ty={}\\tvx={}\\tvy={}\\t\"\n",
    "          .format(data[0],data[1],data[2],data[3],data[4]))\n",
    "\n",
    "def mqtt_sub():\n",
    "    client = mqtt.Client()\n",
    "    client.on_connect = on_connect\n",
    "    client.on_message = on_message\n",
    "    client.connect(broker, port, 60)\n",
    "    client.loop_start() \n",
    "    \n",
    "if __name__ == '__main__':\n",
    "    mqtt_sub()"
   ]
  }
 ],
 "metadata": {
  "kernelspec": {
   "display_name": "Python 3",
   "language": "python",
   "name": "python3"
  },
  "language_info": {
   "codemirror_mode": {
    "name": "ipython",
    "version": 3
   },
   "file_extension": ".py",
   "mimetype": "text/x-python",
   "name": "python",
   "nbconvert_exporter": "python",
   "pygments_lexer": "ipython3",
   "version": "3.8.3"
  }
 },
 "nbformat": 4,
 "nbformat_minor": 4
}
