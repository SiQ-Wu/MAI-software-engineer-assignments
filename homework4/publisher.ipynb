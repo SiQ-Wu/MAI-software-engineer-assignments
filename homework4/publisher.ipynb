{
 "cells": [
  {
   "cell_type": "code",
   "execution_count": 2,
   "metadata": {},
   "outputs": [
    {
     "ename": "ModuleNotFoundError",
     "evalue": "No module named 'paho'",
     "output_type": "error",
     "traceback": [
      "\u001b[1;31m---------------------------------------------------------------------------\u001b[0m",
      "\u001b[1;31mModuleNotFoundError\u001b[0m                       Traceback (most recent call last)",
      "\u001b[1;32m<ipython-input-2-93f7273fb578>\u001b[0m in \u001b[0;36m<module>\u001b[1;34m\u001b[0m\n\u001b[0;32m      1\u001b[0m \u001b[1;32mimport\u001b[0m \u001b[0mnumpy\u001b[0m \u001b[1;32mas\u001b[0m \u001b[0mnp\u001b[0m\u001b[1;33m\u001b[0m\u001b[1;33m\u001b[0m\u001b[0m\n\u001b[1;32m----> 2\u001b[1;33m \u001b[1;32mimport\u001b[0m \u001b[0mpaho\u001b[0m\u001b[1;33m.\u001b[0m\u001b[0mmqtt\u001b[0m\u001b[1;33m.\u001b[0m\u001b[0mclient\u001b[0m \u001b[1;32mas\u001b[0m \u001b[0mmqtt\u001b[0m\u001b[1;33m\u001b[0m\u001b[1;33m\u001b[0m\u001b[0m\n\u001b[0m\u001b[0;32m      3\u001b[0m \u001b[1;32mimport\u001b[0m \u001b[0mtime\u001b[0m\u001b[1;33m\u001b[0m\u001b[1;33m\u001b[0m\u001b[0m\n\u001b[0;32m      4\u001b[0m \u001b[1;33m\u001b[0m\u001b[0m\n\u001b[0;32m      5\u001b[0m \u001b[0mbroker\u001b[0m \u001b[1;33m=\u001b[0m \u001b[1;34m\"broker.emqx.io\"\u001b[0m\u001b[1;33m\u001b[0m\u001b[1;33m\u001b[0m\u001b[0m\n",
      "\u001b[1;31mModuleNotFoundError\u001b[0m: No module named 'paho'"
     ]
    }
   ],
   "source": [
    "import numpy as np\n",
    "import paho.mqtt.client as mqtt\n",
    "import time\n",
    "\n",
    "broker = \"broker.emqx.io\"\n",
    "port = 1883\n",
    "topic = \"movement_simulation\"\n",
    "\n",
    "g = 9.8\n",
    "\n",
    "def on_connect(client, userdata, flags, rc):\n",
    "    if rc == 0:\n",
    "        print(\"Connected to MQTT server!\")\n",
    "        client.subscribe(topic)\n",
    "    else:\n",
    "        print(f\"Failed to connect, result code {0}\".format(str(rc)))\n",
    "        \n",
    "def mqtt_pub(vx0, vy0, sim_t):\n",
    "    client = mqtt.Client()\n",
    "    client.on_connect = on_connect\n",
    "    client.on_publish = on_publish\n",
    "    client.connect(broker, port, 60)\n",
    "    client.loop_start()\n",
    "    \n",
    "    t = np.linspace(0,sim_t,sim_t+1)\n",
    "    vx = vx0 - g * t\n",
    "    vy = vy0\n",
    "    x = vx0 * t -  0.5 * g * t ** 2\n",
    "    y = vy0 * t\n",
    "    \n",
    "    for i in range(len(t)):\n",
    "        data = str(t[i]) + ' ' + str(format(x[i], '.1f')) + ' ' + str(format(y[i], '.1f')) + \\\n",
    "        ' ' + str(format(vx[i], '.1f')) + ' ' + str(vy[i])\n",
    "        client.publish(topic=topic, payload=data, retain=False)\n",
    "        time.sleep(1)\n",
    "    \n",
    "\n",
    "if __name__ == '__main__':\n",
    "    vx, vy, t = input('Input Vertical speed, Horizontal speed and Simulation time, split by space').split(' ')\n",
    "    vx = int(vx)\n",
    "    vy = int(vy)\n",
    "    t = int(t)\n",
    "    mqtt_pub(vx, vy, t)"
   ]
  },
  {
   "cell_type": "code",
   "execution_count": null,
   "metadata": {},
   "outputs": [],
   "source": []
  }
 ],
 "metadata": {
  "kernelspec": {
   "display_name": "Python 3",
   "language": "python",
   "name": "python3"
  },
  "language_info": {
   "codemirror_mode": {
    "name": "ipython",
    "version": 3
   },
   "file_extension": ".py",
   "mimetype": "text/x-python",
   "name": "python",
   "nbconvert_exporter": "python",
   "pygments_lexer": "ipython3",
   "version": "3.8.3"
  }
 },
 "nbformat": 4,
 "nbformat_minor": 4
}
